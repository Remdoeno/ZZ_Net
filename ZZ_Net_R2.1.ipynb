{
 "cells": [
  {
   "cell_type": "code",
   "execution_count": 1,
   "id": "f1fe5653",
   "metadata": {
    "ExecuteTime": {
     "end_time": "2021-11-24T21:02:18.660488Z",
     "start_time": "2021-11-24T21:02:15.441531Z"
    },
    "init_cell": true
   },
   "outputs": [],
   "source": [
    "import tensorflow as tf\n",
    "import numpy as np\n",
    "import pandas as pd\n",
    "import matplotlib.pyplot as plt\n",
    "import pickle"
   ]
  },
  {
   "cell_type": "markdown",
   "id": "4c59c142",
   "metadata": {},
   "source": [
    "# GPU设置"
   ]
  },
  {
   "cell_type": "code",
   "execution_count": 2,
   "id": "c8d38a94",
   "metadata": {
    "ExecuteTime": {
     "end_time": "2021-11-24T21:02:18.721339Z",
     "start_time": "2021-11-24T21:02:18.661496Z"
    },
    "init_cell": true
   },
   "outputs": [],
   "source": [
    "import os\n",
    "gpus = tf.config.experimental.list_physical_devices(device_type='GPU')\n",
    "for gpu in gpus:\n",
    "    tf.config.experimental.set_memory_growth(gpu, True)\n",
    "os.environ['CUDA_VISIBLE_DEVICES'] = '0'"
   ]
  },
  {
   "cell_type": "markdown",
   "id": "4d864949",
   "metadata": {},
   "source": [
    "# 搭建数据集"
   ]
  },
  {
   "cell_type": "code",
   "execution_count": 3,
   "id": "bb784f89",
   "metadata": {
    "ExecuteTime": {
     "end_time": "2021-11-24T21:02:54.859328Z",
     "start_time": "2021-11-24T21:02:18.723351Z"
    },
    "init_cell": true
   },
   "outputs": [
    {
     "name": "stdout",
     "output_type": "stream",
     "text": [
      "Training_samples: 77158\n",
      "Testing_samples: 10190\n"
     ]
    }
   ],
   "source": [
    "from Pkgs.Ds_Builder import Dataset\n",
    "\n",
    "Ds = Dataset(\n",
    "    file_train = '..\\\\Data\\\\SpecnSpeed_data.csv', \n",
    "    label_length = 2, \n",
    "    label_preprocessing = 'Lzz_norm', \n",
    "    data_preprocessing = 'Lzz_norm')\n",
    "\n",
    "Ds.set_test_data('..\\\\Data\\\\SpecnSpeed_data_test.csv')"
   ]
  },
  {
   "cell_type": "markdown",
   "id": "94204553",
   "metadata": {},
   "source": [
    "# 搭建ZZ_NET"
   ]
  },
  {
   "cell_type": "code",
   "execution_count": 4,
   "id": "77325fe1",
   "metadata": {
    "ExecuteTime": {
     "end_time": "2021-11-24T21:02:55.891267Z",
     "start_time": "2021-11-24T21:02:54.860303Z"
    },
    "code_folding": [],
    "init_cell": true
   },
   "outputs": [
    {
     "name": "stdout",
     "output_type": "stream",
     "text": [
      "Model: \"zz_block\"\n",
      "_________________________________________________________________\n",
      "Layer (type)                 Output Shape              Param #   \n",
      "=================================================================\n",
      "starter_block (Starter_block multiple                  64100     \n",
      "_________________________________________________________________\n",
      "res_block (Res_block)        multiple                  5100      \n",
      "_________________________________________________________________\n",
      "res_block_1 (Res_block)      multiple                  5100      \n",
      "_________________________________________________________________\n",
      "trans_block (Trans_block)    multiple                  5100      \n",
      "_________________________________________________________________\n",
      "res_block_2 (Res_block)      multiple                  20200     \n",
      "_________________________________________________________________\n",
      "res_block_3 (Res_block)      multiple                  20200     \n",
      "_________________________________________________________________\n",
      "final_block (Final_block)    multiple                  202       \n",
      "=================================================================\n",
      "Total params: 120,002\n",
      "Trainable params: 120,002\n",
      "Non-trainable params: 0\n",
      "_________________________________________________________________\n",
      "None\n"
     ]
    }
   ],
   "source": [
    "from Pkgs.ZZ_Net_Builder import ZZ_Net\n",
    "\n",
    "ZZ = ZZ_Net(\n",
    "    NN_type = 'R',\n",
    "    task_name = 'Spec2speed',\n",
    "    inputs = Ds.input_length,\n",
    "    outputs = Ds.output_length, \n",
    "    nodes = 50, \n",
    "    levels = 2, \n",
    "    stacks = 2, \n",
    "    augmentation = ['Noise(0.1)', 'Mask(0.3)'],\n",
    "    activation = tf.nn.relu, \n",
    "    normalization = None, \n",
    "    dropout_rate = 0.)"
   ]
  },
  {
   "cell_type": "code",
   "execution_count": null,
   "id": "236a8922",
   "metadata": {
    "ExecuteTime": {
     "end_time": "2021-11-24T12:51:06.691253Z",
     "start_time": "2021-11-24T12:51:06.657301Z"
    },
    "code_folding": []
   },
   "outputs": [],
   "source": [
    "from Pkgs.ZZ_Net_Builder import ZZ_Linear\n",
    "\n",
    "ZZ = ZZ_Linear(\n",
    "    NN_type = 'R',\n",
    "    task_name = 'spec2speed',\n",
    "    inputs = Ds.input_length,\n",
    "    outputs = Ds.output_length, \n",
    "    augmentation = ['Noise(0.1)', 'Mask(0.1)'])"
   ]
  },
  {
   "cell_type": "markdown",
   "id": "10f96e79",
   "metadata": {},
   "source": [
    "# 训练ZZ_NET"
   ]
  },
  {
   "cell_type": "code",
   "execution_count": 5,
   "id": "23cad92e",
   "metadata": {
    "ExecuteTime": {
     "end_time": "2021-11-24T21:52:42.187224Z",
     "start_time": "2021-11-24T21:02:55.892265Z"
    },
    "init_cell": true,
    "scrolled": false
   },
   "outputs": [
    {
     "name": "stdout",
     "output_type": "stream",
     "text": [
      "0 , Train:  1.0751  , Test:  1.14153\n",
      "4000 , Train:  0.0494  , Test:  0.05876\n",
      "8000 , Train:  0.0224  , Test:  0.03454\n",
      "12000 , Train:  0.01627  , Test:  0.02573\n",
      "16000 , Train:  0.02171  , Test:  0.02766\n",
      "20000 , Train:  0.01114  , Test:  0.0198\n",
      "24000 , Train:  0.01262  , Test:  0.02027\n",
      "28000 , Train:  0.01221  , Test:  0.01982\n",
      "32000 , Train:  0.00944  , Test:  0.01909\n",
      "36000 , Train:  0.00928  , Test:  0.01785\n",
      "40000 , Train:  0.00889  , Test:  0.01922\n",
      "44000 , Train:  0.00911  , Test:  0.02078\n",
      "48000 , Train:  0.0083  , Test:  0.01638\n",
      "52000 , Train:  0.00741  , Test:  0.01694\n",
      "56000 , Train:  0.00676  , Test:  0.01523\n",
      "60000 , Train:  0.00822  , Test:  0.01911\n",
      "64000 , Train:  0.00644  , Test:  0.0167\n",
      "68000 , Train:  0.00718  , Test:  0.01768\n",
      "72000 , Train:  0.00618  , Test:  0.01985\n",
      "76000 , Train:  0.00601  , Test:  0.01761\n",
      "80000 , Train:  0.00559  , Test:  0.01511\n",
      "84000 , Train:  0.00579  , Test:  0.01564\n",
      "88000 , Train:  0.00556  , Test:  0.01705\n",
      "92000 , Train:  0.00553  , Test:  0.01743\n",
      "96000 , Train:  0.00527  , Test:  0.01694\n",
      "100000 , Train:  0.0054  , Test:  0.01662\n",
      "104000 , Train:  0.00515  , Test:  0.01514\n",
      "108000 , Train:  0.00506  , Test:  0.01625\n",
      "112000 , Train:  0.00487  , Test:  0.0167\n",
      "116000 , Train:  0.00501  , Test:  0.01598\n",
      "120000 , Train:  0.00499  , Test:  0.01543\n",
      "124000 , Train:  0.00479  , Test:  0.01588\n",
      "128000 , Train:  0.00472  , Test:  0.01481\n",
      "132000 , Train:  0.00475  , Test:  0.01572\n",
      "136000 , Train:  0.00466  , Test:  0.01634\n",
      "140000 , Train:  0.00459  , Test:  0.0169\n",
      "144000 , Train:  0.00457  , Test:  0.01586\n",
      "148000 , Train:  0.00461  , Test:  0.01662\n",
      "152000 , Train:  0.00441  , Test:  0.01545\n",
      "156000 , Train:  0.00447  , Test:  0.01616\n",
      "160000 , Train:  0.00445  , Test:  0.01499\n",
      "164000 , Train:  0.00432  , Test:  0.01519\n",
      "168000 , Train:  0.00433  , Test:  0.01589\n",
      "172000 , Train:  0.00427  , Test:  0.01522\n",
      "176000 , Train:  0.00429  , Test:  0.01574\n",
      "180000 , Train:  0.00422  , Test:  0.0156\n",
      "184000 , Train:  0.00433  , Test:  0.01566\n",
      "188000 , Train:  0.00418  , Test:  0.01503\n",
      "192000 , Train:  0.00419  , Test:  0.01547\n",
      "196000 , Train:  0.00416  , Test:  0.0155\n",
      "200000 , Train:  0.00417  , Test:  0.01556\n"
     ]
    }
   ],
   "source": [
    "from Pkgs.ZZ_Net_Trainer import ZZ_Trainer\n",
    "\n",
    "zzT = ZZ_Trainer(Ds, ZZ, total_iteration = 200000, learning_rate = 1e-3, batch_size = 200)\n",
    "zzT.train(zzT.total_iteration)"
   ]
  },
  {
   "cell_type": "markdown",
   "id": "f5238236",
   "metadata": {},
   "source": [
    "# 验证ZZ_NET"
   ]
  },
  {
   "cell_type": "code",
   "execution_count": 6,
   "id": "44050b8d",
   "metadata": {
    "ExecuteTime": {
     "end_time": "2021-11-24T21:52:42.583760Z",
     "start_time": "2021-11-24T21:52:42.188221Z"
    },
    "init_cell": true
   },
   "outputs": [
    {
     "data": {
      "image/png": "[encoded data removed]",
      "text/plain": [
       "<Figure size 720x288 with 1 Axes>"
      ]
     },
     "metadata": {
      "needs_background": "light"
     },
     "output_type": "display_data"
    },
    {
     "data": {
      "text/html": [
       "<div>\n",
       "<style scoped>\n",
       "    .dataframe tbody tr th:only-of-type {\n",
       "        vertical-align: middle;\n",
       "    }\n",
       "\n",
       "    .dataframe tbody tr th {\n",
       "        vertical-align: top;\n",
       "    }\n",
       "\n",
       "    .dataframe thead th {\n",
       "        text-align: right;\n",
       "    }\n",
       "</style>\n",
       "<table border=\"1\" class=\"dataframe\">\n",
       "  <thead>\n",
       "    <tr style=\"text-align: right;\">\n",
       "      <th></th>\n",
       "      <th>1000</th>\n",
       "      <th>2000</th>\n",
       "      <th>5000</th>\n",
       "      <th>10000</th>\n",
       "      <th>20000</th>\n",
       "      <th>30000</th>\n",
       "      <th>50000</th>\n",
       "      <th>100000</th>\n",
       "      <th>150000</th>\n",
       "      <th>200000</th>\n",
       "    </tr>\n",
       "  </thead>\n",
       "  <tbody>\n",
       "    <tr>\n",
       "      <th>Training_loss</th>\n",
       "      <td>0.084961</td>\n",
       "      <td>0.060216</td>\n",
       "      <td>0.025059</td>\n",
       "      <td>0.016407</td>\n",
       "      <td>0.011137</td>\n",
       "      <td>0.012877</td>\n",
       "      <td>0.008847</td>\n",
       "      <td>0.005395</td>\n",
       "      <td>0.004471</td>\n",
       "      <td>0.004167</td>\n",
       "    </tr>\n",
       "    <tr>\n",
       "      <th>Testing_loss</th>\n",
       "      <td>0.075286</td>\n",
       "      <td>0.081851</td>\n",
       "      <td>0.039983</td>\n",
       "      <td>0.025921</td>\n",
       "      <td>0.019802</td>\n",
       "      <td>0.022100</td>\n",
       "      <td>0.019424</td>\n",
       "      <td>0.016623</td>\n",
       "      <td>0.015421</td>\n",
       "      <td>0.015564</td>\n",
       "    </tr>\n",
       "  </tbody>\n",
       "</table>\n",
       "</div>"
      ],
      "text/plain": [
       "                 1000      2000      5000      10000     20000     30000   \\\n",
       "Training_loss  0.084961  0.060216  0.025059  0.016407  0.011137  0.012877   \n",
       "Testing_loss   0.075286  0.081851  0.039983  0.025921  0.019802  0.022100   \n",
       "\n",
       "                 50000     100000    150000    200000  \n",
       "Training_loss  0.008847  0.005395  0.004471  0.004167  \n",
       "Testing_loss   0.019424  0.016623  0.015421  0.015564  "
      ]
     },
     "execution_count": 6,
     "metadata": {},
     "output_type": "execute_result"
    }
   ],
   "source": [
    "zzT.Validate([1000, 2000, 5000, 10000, 20000, 30000, 50000, 100000, 150000, 200000])"
   ]
  },
  {
   "cell_type": "code",
   "execution_count": null,
   "id": "ab6c1ae1",
   "metadata": {
    "ExecuteTime": {
     "end_time": "2021-11-24T13:00:43.390519Z",
     "start_time": "2021-11-24T13:00:39.677560Z"
    },
    "scrolled": true
   },
   "outputs": [],
   "source": [
    "ZZ.visualize(Ds.data_train[0:100])"
   ]
  },
  {
   "cell_type": "markdown",
   "id": "21f052d5",
   "metadata": {},
   "source": [
    "# 输出ZZ_NET结果"
   ]
  },
  {
   "cell_type": "code",
   "execution_count": 7,
   "id": "e5da766e",
   "metadata": {
    "ExecuteTime": {
     "end_time": "2021-11-24T21:52:42.908327Z",
     "start_time": "2021-11-24T21:52:42.585376Z"
    },
    "init_cell": true
   },
   "outputs": [],
   "source": [
    "label_train_predict = ZZ.predict(Ds.data_train, batch_size = 1000)\n",
    "label_test_predict = ZZ.predict(Ds.data_test, batch_size = 1000)"
   ]
  },
  {
   "cell_type": "code",
   "execution_count": 8,
   "id": "aadd90b4",
   "metadata": {
    "ExecuteTime": {
     "end_time": "2021-11-24T21:52:43.096979Z",
     "start_time": "2021-11-24T21:52:42.910292Z"
    },
    "cell_style": "split",
    "code_folding": [
     0
    ],
    "init_cell": true,
    "scrolled": false
   },
   "outputs": [
    {
     "data": {
      "image/png": "[encoded data removed]",
      "text/plain": [
       "<Figure size 432x288 with 1 Axes>"
      ]
     },
     "metadata": {
      "needs_background": "light"
     },
     "output_type": "display_data"
    },
    {
     "data": {
      "image/png": "[encoded data removed]",
      "text/plain": [
       "<Figure size 432x288 with 1 Axes>"
      ]
     },
     "metadata": {
      "needs_background": "light"
     },
     "output_type": "display_data"
    }
   ],
   "source": [
    "#画一些图什么的Train\n",
    "Rnd_init = int(np.random.random()*(len(label_train_predict) - 200))\n",
    "for i in range(Ds.output_length):\n",
    "    plt.plot(np.arange(200), label_train_predict[Rnd_init:Rnd_init + 200, i], label = 'Predict')\n",
    "    plt.plot(np.arange(200), Ds.label_train[Rnd_init:Rnd_init + 200, i], label = 'Real', alpha = .7)\n",
    "    plt.legend()\n",
    "    plt.show()"
   ]
  },
  {
   "cell_type": "code",
   "execution_count": 9,
   "id": "52de2855",
   "metadata": {
    "ExecuteTime": {
     "end_time": "2021-11-24T21:52:43.288470Z",
     "start_time": "2021-11-24T21:52:43.097980Z"
    },
    "cell_style": "split",
    "code_folding": [
     0
    ],
    "init_cell": true,
    "scrolled": false
   },
   "outputs": [
    {
     "data": {
      "image/png": "[encoded data removed]",
      "text/plain": [
       "<Figure size 432x288 with 1 Axes>"
      ]
     },
     "metadata": {
      "needs_background": "light"
     },
     "output_type": "display_data"
    },
    {
     "data": {
      "image/png": "[encoded data removed]",
      "text/plain": [
       "<Figure size 432x288 with 1 Axes>"
      ]
     },
     "metadata": {
      "needs_background": "light"
     },
     "output_type": "display_data"
    }
   ],
   "source": [
    "#又画一些图什么的Test\n",
    "Rnd_init = int(np.random.random()*(len(label_test_predict) - 200))\n",
    "for i in range(Ds.output_length):\n",
    "    plt.plot(np.arange(200), label_test_predict[Rnd_init:Rnd_init + 200, i], label = 'Predict')\n",
    "    plt.plot(np.arange(200), Ds.label_test[Rnd_init:Rnd_init + 200, i], label = 'Real', alpha = .7)\n",
    "    plt.legend()\n",
    "    plt.show()"
   ]
  },
  {
   "cell_type": "code",
   "execution_count": 10,
   "id": "02390c08",
   "metadata": {
    "ExecuteTime": {
     "end_time": "2021-11-24T21:52:43.336343Z",
     "start_time": "2021-11-24T21:52:43.289467Z"
    },
    "code_folding": [
     0
    ],
    "init_cell": true
   },
   "outputs": [],
   "source": [
    "#输出结果\n",
    "label_predict = Ds.recover_label(label_test_predict)\n",
    "label_real = Ds.recover_label(Ds.label_test)\n",
    "\n",
    "labels = ['Predicted_' + str(i) for i in range(label_real.shape[1])] + ['Real_' + str(i) for i in range(label_real.shape[1])]\n",
    "result = np.concatenate((label_predict, label_real), axis = 1)\n",
    "\n",
    "pd.DataFrame(result, columns = labels).to_csv('Results\\\\Result_' + ZZ.task_name + '.csv', index = False)"
   ]
  },
  {
   "cell_type": "markdown",
   "id": "57f31912",
   "metadata": {},
   "source": [
    "# 保存ZZ_NET模型"
   ]
  },
  {
   "cell_type": "code",
   "execution_count": 11,
   "id": "fbdde1a9",
   "metadata": {
    "ExecuteTime": {
     "end_time": "2021-11-24T21:52:47.064596Z",
     "start_time": "2021-11-24T21:52:43.337352Z"
    },
    "init_cell": true
   },
   "outputs": [
    {
     "name": "stdout",
     "output_type": "stream",
     "text": [
      "INFO:tensorflow:Assets written to: Saved_Models\\ZZR_Spec2speed\\assets\n"
     ]
    }
   ],
   "source": [
    "tf.keras.models.save_model(ZZ, 'Saved_Models\\\\ZZ' + ZZ.type + '_' + ZZ.task_name)"
   ]
  },
  {
   "cell_type": "markdown",
   "id": "f007fe8e",
   "metadata": {},
   "source": [
    "# 剪裁和保存Dataset"
   ]
  },
  {
   "cell_type": "code",
   "execution_count": 12,
   "id": "54541f8b",
   "metadata": {
    "ExecuteTime": {
     "end_time": "2021-11-24T21:52:47.176340Z",
     "start_time": "2021-11-24T21:52:47.065596Z"
    },
    "init_cell": true
   },
   "outputs": [
    {
     "name": "stdout",
     "output_type": "stream",
     "text": [
      "This Dataset has been pruned.\n"
     ]
    }
   ],
   "source": [
    "import copy\n",
    "Ds2 = copy.deepcopy(Ds)\n",
    "Ds2.slim()\n",
    "\n",
    "Dsfile = open('Ds\\\\Ds_' + ZZ.task_name,'wb')\n",
    "pickle.dump(Ds2, Dsfile)\n",
    "Dsfile.close()"
   ]
  },
  {
   "cell_type": "markdown",
   "id": "bd19581e",
   "metadata": {},
   "source": [
    "# 加载模型实现端到端推理"
   ]
  },
  {
   "cell_type": "code",
   "execution_count": 13,
   "id": "4bd9e568",
   "metadata": {
    "ExecuteTime": {
     "end_time": "2021-11-24T21:52:49.429175Z",
     "start_time": "2021-11-24T21:52:47.177333Z"
    },
    "init_cell": true
   },
   "outputs": [],
   "source": [
    "from Pkgs.ZZ_Net_Portable import Portable_ZZ\n",
    "\n",
    "ZZr = Portable_ZZ('Saved_Models\\\\ZZ' + ZZ.type + '_' + ZZ.task_name, 'Ds\\\\Ds_' + ZZ.task_name)"
   ]
  }
 ],
 "metadata": {
  "celltoolbar": "Initialization Cell",
  "kernelspec": {
   "display_name": "Python 3",
   "language": "python",
   "name": "python3"
  },
  "language_info": {
   "codemirror_mode": {
    "name": "ipython",
    "version": 3
   },
   "file_extension": ".py",
   "mimetype": "text/x-python",
   "name": "python",
   "nbconvert_exporter": "python",
   "pygments_lexer": "ipython3",
   "version": "3.8.8"
  },
  "toc": {
   "base_numbering": 1,
   "nav_menu": {},
   "number_sections": true,
   "sideBar": true,
   "skip_h1_title": false,
   "title_cell": "Table of Contents",
   "title_sidebar": "Contents",
   "toc_cell": false,
   "toc_position": {
    "height": "calc(100% - 180px)",
    "left": "10px",
    "top": "150px",
    "width": "227.825px"
   },
   "toc_section_display": true,
   "toc_window_display": true
  }
 },
 "nbformat": 4,
 "nbformat_minor": 5
}
